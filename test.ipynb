{
 "cells": [
  {
   "cell_type": "code",
   "execution_count": 1,
   "metadata": {
    "collapsed": true
   },
   "outputs": [],
   "source": [
    "from dataset.dataset import Dataset, load_image\n",
    "\n",
    "import numpy as np\n",
    "from torch.utils.data import DataLoader\n",
    "from torch.autograd import Variable\n",
    "import torch\n",
    "from Net.resnext import resnext101_32x8d_wsl\n",
    "import torchvision.models as models\n",
    "from Net.fast_rcnn import FasterRCNNVGG16\n",
    "from utils.get_layer import IntermediateLayerGetter\n",
    "from Net.roi_pool import VGG16RoIHead"
   ]
  },
  {
   "cell_type": "code",
   "execution_count": 2,
   "outputs": [
    {
     "name": "stdout",
     "output_type": "stream",
     "text": [
      "[{'token': '000091dc8fbc4079b412f735aa743c71', 'category_token': 'fd69059b62a3469fbaef25340c0eab7f', 'bbox': [0, 484, 558, 893], 'mask': {'size': [900, 1600], 'counts': 'aWEwVTptYTAxTzJOMk4yW09kMDAxTzEwME8xTzAwMU8xMDAwTzEwME8xMDAwME8xMDBPMTAwTzEwME8xMDAwME8xMDBPMTAwTzJPMU4xMDFPMU4yTzBPMk9PMDEwTzFPMDAxME8wMU8wMTBPMU8wMDEwTzAxTzAwMTAwTzAwMTBPMDEwME8wMDEwTzAxME8wMTAwTzAxME9OMk00TDNNNEwzTTRMM000TDNNM000TDNNNEwzTTRMM04zTTJNNE0yTjJPMk0yTzJOMU4zTjFGO0Y5MDAwMU8wMDFPME8yTzAwMU8wMDAwMU8wMDFPMDAxMDBPMU8xTzFPMU8wMDFPMTAwTzFPMU8xTzFPMDAxTzEwME8xTzFPMU8wMDFPMU8xMDBPMU8xTzAwMU8xTzFPMDEwTzFPMU8wMDFPMU8xTzAxME8xTzFPMU8wMDFPMU8xME8wMU8xTzFPMDAxMDBPMU8wMDEwME8xTzAxME8xTzFPMTAwTzFPMU8xMDBPMU8xTzEwME8xTzEwME8xTzFPMTAwTzFPMU8xMDBPMU8xMDBPMU8xTzEwME8xTzEwME8xTzEwME8xTzEwMU4xMDBPMU8xMDBPMU8xMDBPMTAwTzFPMTAwTzEwME8xTzEwME8xTzEwME8xMDBPMU8xMDBPMU8xMDBPMU8xMDBPMU8xMDBPMU8xMDBPMU8xMDBPMU8xMDBPMU8xMDBPMU8xMDBPMTAwTzFPMTAwTzFPMTAwTzFPMTAwTzFPMTAwTzFPMTAwTzFPMTAwTzFPMTAwTzFPMTAwTzEwME8xTzEwME8xTzEwME8xTzEwME8xTzEwME8xTzEwME8xTzEwME8xTzEwME8xTzEwME8xTzJPME8xTzEwMU4xTzFPMU8yTzBPMU8xTzJPME8xTzFPMU8yTzBPMU8xTzJPME8xTzFPMk4xMDBPMU8yTjEwME8yTjFPMU8xMDFOMU8xTzJPME8xTzJOMU8xMDBPMk4xTzEwMU4xTzFPMk4xMDBPMU8yTjEwME8yTjFPMTAwTzJOMTAwTzJOMU8xMDFOMU8xTzEwMU4xTzFPMk8wTzJOMTAxTjFPMk4xMDFOMU8yTjEwMU4xTzJPME8yTjFPMk8wT2pXX1Ax'}, 'attribute_tokens': ['9f65c1eaa74e4d5db46e87a34811e994'], 'sample_data_token': '957f54a4368e48f5b1c95ca43f4ae0b5'}, {'token': '3b56e85b5b64454e8142cbeb8b8e5936', 'category_token': 'fd69059b62a3469fbaef25340c0eab7f', 'bbox': [857, 424, 1121, 657], 'mask': {'size': [900, 1600], 'counts': 'ZFlkZzAxUmwwMU4yTzFPMU8xTjJPMU8xTjJPMk4xTzFOMk8xTzEwMDAwMDAwMU8wMDBPMTAwMDAwMDAwMDBPMTAxTzAwMDAwMDFPME8xMDAwMU8wMDAwME8xMDFPMDAwMDAwMU8wMDAwMDAxTzAwMDAwTzJPMDAwMDAwMDAxTzAwMDAwMDFPMDAwTzEwMU8yTjJOMk4xTzJOMk4yTjFPMk4yTjJOMU8yTjJOMk4xTzJNM04yTjFPMk4yTjJOMU8yTjJOMk4yTjJOMk4zTTJOM00yTjJOM0wzTjNNMk4yTjNNMk4zTTJOMk4yTjJOMk4zTTJOMk4yTjJONko4RzpHOUc4SDlHNUswMDAwMDAwMDAwMDAwMDAwMDAwMDAwMDAwMDBPMTFPMDAwMDAwMDAwMDAwMDAwMDAwMU8wMDAwMDAwMDAwMDAwMDAwMDEwTzAwMDFPMDAwMDFPMDAwMDAxME8wMDAwMU8wMDAwMU8wMDAwMTBOMTAwMDAwMDAwMDAwMDAwMDAwMU8wMDAwMGQwXE8wMDAwMDAwMDAwMDFPMTAwTzFPMDAxTzFPMU8xMDBOMk8wMDFPMU8xTzFPMU8xTzAwMU8xTzFPMU8yTjJOMk4yTTNMNEw0TTNMNEw0Y05cMU00TDQwME8xMDAwME8xTTNOMk5FOzAwME8xMDAwMGZMa1dPZTJVaDBbTW1XT2MyVGgwXE1uV09iMlRoMFxNbVdPYjJWaDBcTWxXT2IyVWgwXU1tV09gMlZoMF5NbFdPYDJaaDBaTWhXT2QybmgwQz1aT2YwWk9mMFpPVWRTPQ=='}, 'attribute_tokens': ['9f65c1eaa74e4d5db46e87a34811e994'], 'sample_data_token': '957f54a4368e48f5b1c95ca43f4ae0b5'}, {'token': '454e9c0d71234793b628c8032409aaa0', 'category_token': 'fd69059b62a3469fbaef25340c0eab7f', 'bbox': [256, 418, 658, 578], 'mask': {'size': [900, 1600], 'counts': 'V1tSNzFSbDAxTzJOMk4xTzJOMU4yTzFPMU8xTzFPMU8xTzFPMU8xTzFPMU8xTjJPMU8xTzFPMU8xTzFPMU8xTzFPMU4yTzFPMU8xTzFPMU8xTzFPMU4yQ2JOU1ZPXzFtaTBkTm9VT10xUWowZk5rVU9bMVVqMDowMDAwTzEwMDAwMDFPMDAwTzEwMDAwMDAwME8yTzAwMDAwMDAwME8xMDFPMDAwMDAwMDAwMDAwMDAwMDBPMTAwMDAwMDAwMDFPMDAwMDAwMDAxTjEwMDAwMDAwMU8wMDAwMDAwMDFOMTAwMDAwMDAxTzAwMDAwMDAwMU8wTzEwMDAwMDAwMU8wMDAwMDAwMDAwMU8wMDAwMU8wMDAwMDAxTzAwMDAxTzAwMDAwMDFPMDAwMDFPMDAxTzAwMU8wMDFPMU8wMDFPMDAxTzAwMU8wMDFPMDAxTzFPMDAxTzAwMU8wMDEwTjFPMTAwTzFPMTAwTzFPMTAwTzFPMTAwTzFPMTAwTzFPMTAwTzFPMTAwTzFPMU8xMDBPMU8xMDBPMU8xMDBPMU8xMDBPMU8xMDBPMU8xMDBPMU8xMDBPMU8xMDBPMU8xMDBPMTAwMDBPMTAwTzEwMU8wTzEwME8xMDAwME8xMDBPMk8wMDBPMTAwTzEwMDAwTzEwMU4xMDBPMTAwMDBPMTAwTzEwMU8wTzEwME8xMDBPMTAwMDBPMk8wTzEwMDAwMDAwME8xMDAwMU8wMDBPMTAwMDAwMDAwMDBPMk8wMDAwMU8wTzEwMDAxTzAwME8yTzAwMDAwMDFOMTAwMDFPMDAwMDBPMk8wMDAwMU8wTzEwMDAxTzFPME8yTzFPMDAxTzFOMTAxTzFPMDAxTjJPMDAxTzFPMDAxTjEwMU8wMDFPME8yTzAwMU8wMFZZbmsw'}, 'attribute_tokens': ['9f65c1eaa74e4d5db46e87a34811e994'], 'sample_data_token': '957f54a4368e48f5b1c95ca43f4ae0b5'}, {'token': '4d94b0addd84465a8067c07d8ad7e727', 'category_token': 'fd69059b62a3469fbaef25340c0eab7f', 'bbox': [1455, 451, 1592, 552], 'mask': {'size': [900, 1600], 'counts': 'ZGBtVzEzZjA1XWowTl1VTzxcajBEYlVPP11qMEFgVU9jMF9qMF5PXVVPZjBiajBaT1xVT2kwY2owV09aVU9tMGVqMDpPMU8xTjJNM00zTTNNM00zTTNNM00zTjJPMU4yTjNOMU4yTjNOMU4xTzJPME8yTjEwMU4xMDFPMDAxT08xTzFPMU4yTzFPMWBOWVdPQmhoMD5YV09BaWgwP1dXT19Pa2gwYDBWV09eT2xoMGIwVFdPXU9taDBjMFNXT1tPb2gwZTBRV09ZT1FpMGYwUFdPWU9RaTBnMFBXT1ZPUmkwajBuVk9UT1RpMGswbVZPVE9UaTBsMGxWT1JPVmkwbjBqVk9QT1hpMFAxaFZPbk5aaTBSMWZWT2xOXGkwVDFkVk9qTl5pMFYxYlZPaE5gaTBZMWUwMDAwMU8wMDAxTzAwMDAwMDFPTzFPMU8xTzFOMk8xTzFPMU8xTzFPMU8xTzFOMk8xTzFPMU8xTzFPMTAxTjFPMTAwTzFPMTAwTzFPMTAwTzFPMTAwTzFPMTAwTzFPMTAwTzFPMTAwTzFPMTAwTzFPMTAwT1pVaDA='}, 'attribute_tokens': ['9f65c1eaa74e4d5db46e87a34811e994'], 'sample_data_token': '957f54a4368e48f5b1c95ca43f4ae0b5'}, {'token': '6c484f2655914343adbaf6fd31735096', 'category_token': 'fd69059b62a3469fbaef25340c0eab7f', 'bbox': [1199, 442, 1483, 667], 'mask': {'size': [900, 1600], 'counts': 'amJsUDFhMF5rMGcwWU88b1ZPY05nZjBqMWVYT2VOVGcwZzFWWE9qTmVnMG4yTDJXT2pLYllPWTRbZjBrS2FZT1c0XWYwbEthWU9VNF5mMG5LXllPVTRhZjBtS1tZT1U0ZGYwbUtZWU9WNGZmMGxLVllPVjRpZjBjMDAxTjExME9PMTAwMDFPMDAwMDAwMDBOMk8wTzJPMU4yTzFOMk8xTjJPMU4yT04xTDVNMk4zTjExMDFOMk8xTjJOMk4yTjJOMk4yTjJPMU8xMDBPMU8xTzExTzAwMDAwMDAwMDAwMDAwMDAwMDAwMDAwMDAwMDAwMDAwMDAwMDAwMDAwMDAwMDAwMDAwMDAwMDAwMDAwMDAwMDAwMDAwMDAwMDAwMDAwMDAwMDAwMDAwMDAwMDAwMDAwMDAwMDAxTzAwMDAwMDAwMDAwMDAwMDAwMDAwMDAwMDAwMDAwMDAwMDAwMDAwMDAwMDAwMDAwMU8wMDAwMDAwMDAwMDAwMDAwMDAwMDAwMDAwMDAwMDAwMDAwMDAwMDAwMDAwMDAwMDAwMDAxTzAwMDAwMDAwMDAwMDAwMDAwMDAwMDAwMDAwMDAwMDAwMDAwMDAwMDAwMDAwMDAwMDAwMDAwMDAwMDAwMDAwMDAwMDAwMDAwMDAwMDAwMDAwMDAwMDAwMDAwMDAwMDAwMDAwMDAxTzAwMDAxTzAwMDAxTzAwMDAxTzAwMU8xTzAwMU8wMk8yTjFOM04xME4xTzJOMU8yTzFOMU8yTjFPMk8wTzJOMU8yTjFPMk4yTzBPMk4xTzJOMU8xTzEwME4zTTJtTVVZT2lObmYwUjFmWU9dTlxmMF0xUVpPWk5RZjBhMVRaT1xObmUwYTFWWk9dTmxlMGExVlpPXU5rZTBiMVdaT1tObGUwYzFYWk9YTmplMGcxW1pPVE5nZTBqMV5aT1BOZGUwbzFaMk4xTzJOMU40TTVKNks0SzZLNUpUX1wz'}, 'attribute_tokens': ['9f65c1eaa74e4d5db46e87a34811e994'], 'sample_data_token': '957f54a4368e48f5b1c95ca43f4ae0b5'}, {'token': '881ef4ea6df14623bd615c2245f1a859', 'category_token': 'fd69059b62a3469fbaef25340c0eab7f', 'bbox': [1126, 440, 1240, 542], 'mask': {'size': [900, 1600], 'counts': 'VldtbjAyUzIxaWcwM21XTzNTaDAwZ1ZPTzI3V2kwSmNWT1cxXWkwak5eVk9aMWJpMGdOW1ZPWzFlaTBlTllWT10xZ2kwZE5WVk9eMWppMD4wMU8wMDAwMDAwMDBPMU4yTjJOM01OM04xMk4yTjJOMk8xTjJOMk4yTjJPMTAwMDAwMDAwMDAwMDAwMDAwMDAwMDAwMDAwMDAwMDAwMDAwMDAxTzAwMDAwMDAxTzAwMDAwMDAwMDAwMDAwMDAwMDAwMDAwMDFPMDAwMDAwMDAwMDBlTlBXT0JQaTA+U1dPX09taDBgMFZXT15PamgwYjBXV09dT2loMGIwWVdPXU9naDBjMFlXT15PZmgwYTBcV09bT2hoMGQwWVdPVU9taDBqMFRXT1FPUWkwbzBvVk9uTlRpMFIxbFZPbU5VaTBTMWtWT2xOVmkwVDFrVk9qTlZpMFYxalZPaU5XaTBWMWpWT2lOV2kwVzFpVk9oTlhpMFgxaFZPZ05ZaTBZMWkwMDAxMDFOMk4yTjJOMk5OMk4yTTNOMk4yTTNOMk40TDRMNU0zTDNNNE00SzVLNUxbbms5'}, 'attribute_tokens': ['9f65c1eaa74e4d5db46e87a34811e994'], 'sample_data_token': '957f54a4368e48f5b1c95ca43f4ae0b5'}, {'token': 'a3f670c6f39a4a25bf4ca14bae3fcc06', 'category_token': 'fd69059b62a3469fbaef25340c0eab7f', 'bbox': [1500, 442, 1600, 590], 'mask': {'size': [900, 1600], 'counts': 'UmZQWTFhMGNrMDAwMDAwMDFvVE9AXGowYDBjVU9FWWowO2ZVT0pVajA3alVPTVNqMDRrVU9MVmowNGlVT01XajAzaFVPTlhqMDNmVU9NW2owM2RVT05cajAyY1VPT1xqMDJjVU9OXmowM2BVT05gajAyX1VPT2FqMDFeVU9PY2owMVxVTzBkajBoMDBPMTAwTzEwMDAwTzEwMDAxTjNOMU8yTTAxTzFPMDAxTzFOMGdVT25OY2kwUTFeVk9vTmJpMFAxX1ZPUU9faTBvMGJWT1JPXWkwbTBkVk9UT1tpMGowZ1ZPV09XaTBpMGpWT1dPVmkwaDBrVk9ZT1RpMGYwbVZPW09RaTBlMFBXT1xPb2gwYzBSV09eT21oMGMwUVdPQG1oMGEwUldPQG1oMGEwUldPQWxoMD9VV09CaWgwP1dXT0JnaDA/WVdPQmRoMD9dV09BYmgwYDBeV09BYGgwYDBgV09BXmgwYDBhV09BXmgwP2RXT0BbaDBhMGZXT15PWWgwYzBoV09cT1doMGUwaldPW09UaDBmMGxXT1pPVGgwZjBtV09ZT1JoMGgwb1dPV09QaDBrMG9XT1VPUGgwbDBQWE9UT29nMG0wUVhPVE9tZzBtMFNYT1NPbGcwUDFSWE9QT25nMFMxb1dPbU5QaDBWMW5XT2pOUWgwWjFsV09nTlJoMF0xaVdPZU5XaDBeMWRXT2ROW2gwXzFhV09jTl9oMGAxXFdPYk5jaDBgMjAwTzFPMTAxTjEwMU4xMDBPMk8wMDFPMDAwMDFPME8xMDAwMDAxTzAwMDAwTzEwMU8wMDAwMDAwMDFTQg=='}, 'attribute_tokens': ['9f65c1eaa74e4d5db46e87a34811e994'], 'sample_data_token': '957f54a4368e48f5b1c95ca43f4ae0b5'}, {'token': 'b470251b701140ea9c258544b0c9f786', 'category_token': 'fd69059b62a3469fbaef25340c0eab7f', 'bbox': [528, 424, 709, 507], 'mask': {'size': [900, 1600], 'counts': 'VWlsPjFTbDAwMDFPMDAxTzFOMTAxTzAwMU8wTzIwME8wMDFPMDAxTzAwMU8xTzAwMU8wMDFPMDAxTzFPMDAxTzAwMU8wMDFPMU8wMDFPMDAwMDAwMDAwMU8wMDAwMDAwMDAwMDAwMDAwMDAwMDAwMDAwMDAwMDAwTzEwME8xTzEwME8xMDBPMTAwTzFPMTAwTzEwMDAwMDAwMDAwTzEwMDAwMDAwMDAwTzEwMDAwMDAwMDAwTzEwMDAwMDAwMDAwTzEwMDAwMDAwMDAwTzEwMDAwMDAwMDAwTzEwMDAwMDAwMDAwMDAwMDAwMDAwMDAwMDAwMDAxTzAwMU8wMDFPMU8wMDFPMDAxTzAwWVpeaTA='}, 'attribute_tokens': ['9f65c1eaa74e4d5db46e87a34811e994'], 'sample_data_token': '957f54a4368e48f5b1c95ca43f4ae0b5'}, {'token': 'b87edffe7c7d40eeaa8f1198cb9145ca', 'category_token': 'fd69059b62a3469fbaef25340c0eab7f', 'bbox': [0, 421, 175, 599], 'mask': {'size': [900, 1600], 'counts': 'UD1sNFhnME8xTzFPMTAwTzFPMU8xTzEwME8wXU9kME4yTjJPMTAwMDAwMDAwTzEwTzE2SjAwMDAwMDAwMDAwMDAwMDAxTzAwMDAwMU8xTzFPMU8xT08xMDFOMU8xMDBPMTAwTzFPMTAwTzEwME8yTjEwME8xMDBPMTAwTzJPME8xMDBPMTAwTzEwMU4yTjJPMU4yTjJPMU4xMDBPMU8xMDFOMU8xMDBPMk4xMDBPMU8xMDFOMU8xMDBPMTAxTjEwMDAwTzEwMU4xMDBPMU8xMDBPMk8wTzFPMTAwTzJPMDAwTzEwMDAwTzEwME8xMDAwME8xMDAwME8xMDFPME8yTzBPMk8wMDFOMTAwTzJPMGNOYFVPVjFhajBnTmJVT1cxX2owZ05kVU9YMWVqME8xTzFPMU4xMDAwMDAxTzAwME8xMDAwOkYxTzBPMk8xTzAwMU8xTzFPME8yTzFPMDAxTzFPMU8wTzJPMU8wMDFPMU8xTjEwMU8xTzAwMU9ublNXMQ=='}, 'attribute_tokens': ['9f65c1eaa74e4d5db46e87a34811e994'], 'sample_data_token': '957f54a4368e48f5b1c95ca43f4ae0b5'}, {'token': 'c7b11e78b420473f84d85209a2fc1607', 'category_token': 'fd69059b62a3469fbaef25340c0eab7f', 'bbox': [81, 444, 980, 900], 'mask': {'size': [900, 1600], 'counts': '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'}, 'attribute_tokens': ['9f65c1eaa74e4d5db46e87a34811e994'], 'sample_data_token': '957f54a4368e48f5b1c95ca43f4ae0b5'}, {'token': 'd35ea0e977fe4464a2194c34f8e324bd', 'category_token': 'fd69059b62a3469fbaef25340c0eab7f', 'bbox': [109, 417, 401, 546], 'mask': {'size': [900, 1600], 'counts': 'amhaMzJuazA0TTRPMDAwMDFPME8yTzAwMWNUT0NRazA9bVRPRlFrMDttVE9HU2swOmpUT0lVazA3aVRPTFZrMGIwTzBPMk8xTzFPME8yTzFPMU8wMDFOMk8xTzFPMU4zTjFPMU8xTzJNMk8yTjFPMU8yTjFPMk4xTjAxMDAwMDAwMDAwMDAwME8wMTAwMDAwMDAwMDAwTzEwTzEwMDAwMDAwMDAwME8xME8xMDAwMDAwMDAwMDBNM0w0MU8wMDAwMU8wMDAwMU8wMDAwMDAwMDAwMDAwMDAwMDAwMDAwMDAwMDAwMDAwMDAwMDAwMDAwMDAwMDAwMDAwMDAwMDAwMDAwMDAwMDAwMDAwMDFPMDFPMDAwMDAwMDAwMDAwMDAwMDAwMDAwMDAwMDAwMDAwMDAwMDAwMDAxT08xTjJOMk8xTjJPMU8xTzFPMU8xTzFPMU8yTjFOMk8xTzFPMU8xTzFPMU8xTzFPMk4xTzFPMU8xTzFPMU8xTzFPMU4yTzJOMU8xTzFPMUZkVE9LXWswMmdUT0xaazAzaFRPS1lrMDVoVE9JWWswNzowMU8wMDAwMDAwTzEwMDAwTzEwMDAwTzJPMDAwTzEwMDAwTzEwMDAwMDAwMDBSWm9SMQ=='}, 'attribute_tokens': ['9f65c1eaa74e4d5db46e87a34811e994'], 'sample_data_token': '957f54a4368e48f5b1c95ca43f4ae0b5'}]\n"
     ]
    }
   ],
   "source": [
    "# %%\n",
    "carpath = \"nuimages/train/car.json\"\n",
    "humanpath = \"nuimages/train/human.json\"\n",
    "car_imgs = []\n",
    "car_imgs = load_image(carpath, 0)\n",
    "\n",
    "\n",
    "print(car_imgs[2]['annotations'])\n"
   ],
   "metadata": {
    "collapsed": false
   }
  },
  {
   "cell_type": "markdown",
   "source": [],
   "metadata": {
    "collapsed": false
   }
  },
  {
   "cell_type": "code",
   "execution_count": 3,
   "outputs": [
    {
     "data": {
      "text/plain": "(array([[[-1.8730536 , -1.8707865 , -2.0483842 , ..., -2.009823  ,\n          -2.0535338 , -2.0731025 ],\n         [-1.79644   , -1.3509831 , -1.8635465 , ..., -1.6560079 ,\n          -1.7277278 , -1.6506724 ],\n         [-1.9638543 , -1.4887582 , -2.0664687 , ..., -1.732536  ,\n          -1.7522357 , -1.4234526 ],\n         ...,\n         [-1.7192507 , -1.2069919 , -1.2110233 , ..., -1.3464978 ,\n          -1.4784987 , -1.3929509 ],\n         [-1.7117914 , -1.0935878 , -1.2236992 , ..., -1.4126201 ,\n          -1.2633728 , -1.0973418 ],\n         [-1.8630438 , -1.3130984 , -1.4610538 , ..., -1.154789  ,\n          -0.98831916, -1.0472839 ]],\n \n        [[-1.9625369 , -1.8667592 , -1.8507848 , ..., -1.9243641 ,\n          -1.8776215 , -1.7259119 ],\n         [-1.7860494 , -1.1772574 , -1.4979502 , ..., -1.8021265 ,\n          -1.7787195 , -1.6543077 ],\n         [-1.695717  , -1.1975026 , -1.6377726 , ..., -1.9214203 ,\n          -1.9100968 , -1.648311  ],\n         ...,\n         [-1.7942672 , -1.1439506 , -1.0145918 , ..., -0.8934757 ,\n          -1.1130702 , -1.1037031 ],\n         [-1.7163049 , -0.97501415, -1.1577941 , ..., -1.0130811 ,\n          -1.1710397 , -1.3481064 ],\n         [-1.663354  , -0.8814763 , -1.1218612 , ..., -1.0956006 ,\n          -1.1260978 , -1.2780535 ]],\n \n        [[-1.5335631 , -1.27469   , -1.6483104 , ..., -1.7546533 ,\n          -1.5785099 , -1.7950103 ],\n         [-1.7067449 , -1.445006  , -1.7754475 , ..., -0.8055221 ,\n          -1.0210239 , -0.87683296],\n         [-1.6262945 , -0.91022754, -1.6069704 , ..., -1.1975858 ,\n          -1.4512086 , -0.701716  ],\n         ...,\n         [-1.1404759 , -1.0286064 , -0.84219474, ..., -1.6789201 ,\n          -1.8027139 , -1.580253  ],\n         [-1.0250307 , -1.3808095 , -1.0838    , ..., -1.424305  ,\n          -1.6980643 , -1.3535556 ],\n         [-1.4513606 , -1.648202  , -1.6247253 , ..., -1.0176342 ,\n          -0.840213  , -1.2658948 ]]], dtype=float32),\n array([[922, 283, 999, 353]]),\n array([0.]),\n 0.6244444444444445)"
     },
     "execution_count": 3,
     "metadata": {},
     "output_type": "execute_result"
    }
   ],
   "source": [
    "car_train = Dataset(car_imgs)\n",
    "car_train.__getitem__(1)"
   ],
   "metadata": {
    "collapsed": false
   }
  },
  {
   "cell_type": "code",
   "execution_count": 4,
   "outputs": [
    {
     "name": "stderr",
     "output_type": "stream",
     "text": [
      "C:\\Users\\Jiarun\\AppData\\Local\\anaconda3\\envs\\ECE449project\\lib\\site-packages\\torchvision\\models\\_utils.py:208: UserWarning: The parameter 'pretrained' is deprecated since 0.13 and may be removed in the future, please use 'weights' instead.\n",
      "  warnings.warn(\n",
      "C:\\Users\\Jiarun\\AppData\\Local\\anaconda3\\envs\\ECE449project\\lib\\site-packages\\torchvision\\models\\_utils.py:223: UserWarning: Arguments other than a weight enum or `None` for 'weights' are deprecated since 0.13 and may be removed in the future. The current behavior is equivalent to passing `weights=None`.\n",
      "  warnings.warn(msg)\n"
     ]
    }
   ],
   "source": [
    "batch_size = 2\n",
    "car_train_data =  DataLoader(dataset=car_train, batch_size=batch_size, shuffle=True, num_workers=0)\n",
    "Cuda = True\n",
    "device = torch.device(\"cuda:0\" if torch.cuda.is_available() else \"cpu\")\n",
    "fast_rcnn_model = FasterRCNNVGG16().cuda()"
   ],
   "metadata": {
    "collapsed": false
   }
  },
  {
   "cell_type": "code",
   "execution_count": null,
   "outputs": [],
   "source": [],
   "metadata": {
    "collapsed": false
   }
  },
  {
   "cell_type": "code",
   "execution_count": null,
   "outputs": [],
   "source": [
    "rpn_locs, rpn_scores, rois, roi_indices, anchor = rpn_model(conv5_3, (32,56))\n",
    "# print(roi_indices)\n",
    "roi_cls_locs, roi_scores = ROI_head_model(conv5_3,rois,roi_indices)\n",
    "# print(roi_cls_locs)\n",
    "print(roi_scores)"
   ],
   "metadata": {
    "collapsed": false
   }
  },
  {
   "cell_type": "code",
   "execution_count": null,
   "outputs": [],
   "source": [
    "backbone['classifier'][:-3].eval()"
   ],
   "metadata": {
    "collapsed": false
   }
  }
 ],
 "metadata": {
  "kernelspec": {
   "display_name": "Python 3",
   "language": "python",
   "name": "python3"
  },
  "language_info": {
   "codemirror_mode": {
    "name": "ipython",
    "version": 2
   },
   "file_extension": ".py",
   "mimetype": "text/x-python",
   "name": "python",
   "nbconvert_exporter": "python",
   "pygments_lexer": "ipython2",
   "version": "2.7.6"
  }
 },
 "nbformat": 4,
 "nbformat_minor": 0
}
