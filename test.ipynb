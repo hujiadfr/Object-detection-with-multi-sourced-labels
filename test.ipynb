{
 "cells": [
  {
   "cell_type": "code",
   "execution_count": 1,
   "metadata": {
    "collapsed": true
   },
   "outputs": [],
   "source": [
    "from utils import dataset\n",
    "from torchvision import transforms\n",
    "import numpy as np\n",
    "from torch.utils.data import DataLoader\n",
    "from torch.autograd import Variable\n",
    "import torch\n",
    "from Net.resnext import resnext101_32x8d_wsl\n",
    "import torchvision.models as models\n",
    "from Net.proposal_layer import RegionProposalNetwork\n",
    "from utils.get_layer import IntermediateLayerGetter\n",
    "from Net.roi_pool import VGG16RoIHead"
   ]
  },
  {
   "cell_type": "code",
   "execution_count": 25,
   "outputs": [
    {
     "name": "stdout",
     "output_type": "stream",
     "text": [
      "[{'token': '000091dc8fbc4079b412f735aa743c71', 'category_token': 'fd69059b62a3469fbaef25340c0eab7f', 'bbox': [0, 484, 558, 893], 'mask': {'size': [900, 1600], 'counts': 'aWEwVTptYTAxTzJOMk4yW09kMDAxTzEwME8xTzAwMU8xMDAwTzEwME8xMDAwME8xMDBPMTAwTzEwME8xMDAwME8xMDBPMTAwTzJPMU4xMDFPMU4yTzBPMk9PMDEwTzFPMDAxME8wMU8wMTBPMU8wMDEwTzAxTzAwMTAwTzAwMTBPMDEwME8wMDEwTzAxME8wMTAwTzAxME9OMk00TDNNNEwzTTRMM000TDNNM000TDNNNEwzTTRMM04zTTJNNE0yTjJPMk0yTzJOMU4zTjFGO0Y5MDAwMU8wMDFPME8yTzAwMU8wMDAwMU8wMDFPMDAxMDBPMU8xTzFPMU8wMDFPMTAwTzFPMU8xTzFPMDAxTzEwME8xTzFPMU8wMDFPMU8xMDBPMU8xTzAwMU8xTzFPMDEwTzFPMU8wMDFPMU8xTzAxME8xTzFPMU8wMDFPMU8xME8wMU8xTzFPMDAxMDBPMU8wMDEwME8xTzAxME8xTzFPMTAwTzFPMU8xMDBPMU8xTzEwME8xTzEwME8xTzFPMTAwTzFPMU8xMDBPMU8xMDBPMU8xTzEwME8xTzEwME8xTzEwME8xTzEwMU4xMDBPMU8xMDBPMU8xMDBPMTAwTzFPMTAwTzEwME8xTzEwME8xTzEwME8xMDBPMU8xMDBPMU8xMDBPMU8xMDBPMU8xMDBPMU8xMDBPMU8xMDBPMU8xMDBPMU8xMDBPMU8xMDBPMTAwTzFPMTAwTzFPMTAwTzFPMTAwTzFPMTAwTzFPMTAwTzFPMTAwTzFPMTAwTzFPMTAwTzEwME8xTzEwME8xTzEwME8xTzEwME8xTzEwME8xTzEwME8xTzEwME8xTzEwME8xTzEwME8xTzJPME8xTzEwMU4xTzFPMU8yTzBPMU8xTzJPME8xTzFPMU8yTzBPMU8xTzJPME8xTzFPMk4xMDBPMU8yTjEwME8yTjFPMU8xMDFOMU8xTzJPME8xTzJOMU8xMDBPMk4xTzEwMU4xTzFPMk4xMDBPMU8yTjEwME8yTjFPMTAwTzJOMTAwTzJOMU8xMDFOMU8xTzEwMU4xTzFPMk8wTzJOMTAxTjFPMk4xMDFOMU8yTjEwMU4xTzJPME8yTjFPMk8wT2pXX1Ax'}, 'attribute_tokens': ['9f65c1eaa74e4d5db46e87a34811e994'], 'sample_data_token': '957f54a4368e48f5b1c95ca43f4ae0b5'}, {'token': '3b56e85b5b64454e8142cbeb8b8e5936', 'category_token': 'fd69059b62a3469fbaef25340c0eab7f', 'bbox': [857, 424, 1121, 657], 'mask': {'size': [900, 1600], 'counts': 'ZFlkZzAxUmwwMU4yTzFPMU8xTjJPMU8xTjJPMk4xTzFOMk8xTzEwMDAwMDAwMU8wMDBPMTAwMDAwMDAwMDBPMTAxTzAwMDAwMDFPME8xMDAwMU8wMDAwME8xMDFPMDAwMDAwMU8wMDAwMDAxTzAwMDAwTzJPMDAwMDAwMDAxTzAwMDAwMDFPMDAwTzEwMU8yTjJOMk4xTzJOMk4yTjFPMk4yTjJOMU8yTjJOMk4xTzJNM04yTjFPMk4yTjJOMU8yTjJOMk4yTjJOMk4zTTJOM00yTjJOM0wzTjNNMk4yTjNNMk4zTTJOMk4yTjJOMk4zTTJOMk4yTjJONko4RzpHOUc4SDlHNUswMDAwMDAwMDAwMDAwMDAwMDAwMDAwMDAwMDBPMTFPMDAwMDAwMDAwMDAwMDAwMDAwMU8wMDAwMDAwMDAwMDAwMDAwMDEwTzAwMDFPMDAwMDFPMDAwMDAxME8wMDAwMU8wMDAwMU8wMDAwMTBOMTAwMDAwMDAwMDAwMDAwMDAwMU8wMDAwMGQwXE8wMDAwMDAwMDAwMDFPMTAwTzFPMDAxTzFPMU8xMDBOMk8wMDFPMU8xTzFPMU8xTzAwMU8xTzFPMU8yTjJOMk4yTTNMNEw0TTNMNEw0Y05cMU00TDQwME8xMDAwME8xTTNOMk5FOzAwME8xMDAwMGZMa1dPZTJVaDBbTW1XT2MyVGgwXE1uV09iMlRoMFxNbVdPYjJWaDBcTWxXT2IyVWgwXU1tV09gMlZoMF5NbFdPYDJaaDBaTWhXT2QybmgwQz1aT2YwWk9mMFpPVWRTPQ=='}, 'attribute_tokens': ['9f65c1eaa74e4d5db46e87a34811e994'], 'sample_data_token': '957f54a4368e48f5b1c95ca43f4ae0b5'}, {'token': '454e9c0d71234793b628c8032409aaa0', 'category_token': 'fd69059b62a3469fbaef25340c0eab7f', 'bbox': [256, 418, 658, 578], 'mask': {'size': [900, 1600], 'counts': 'V1tSNzFSbDAxTzJOMk4xTzJOMU4yTzFPMU8xTzFPMU8xTzFPMU8xTzFPMU8xTjJPMU8xTzFPMU8xTzFPMU8xTzFPMU4yTzFPMU8xTzFPMU8xTzFPMU4yQ2JOU1ZPXzFtaTBkTm9VT10xUWowZk5rVU9bMVVqMDowMDAwTzEwMDAwMDFPMDAwTzEwMDAwMDAwME8yTzAwMDAwMDAwME8xMDFPMDAwMDAwMDAwMDAwMDAwMDBPMTAwMDAwMDAwMDFPMDAwMDAwMDAxTjEwMDAwMDAwMU8wMDAwMDAwMDFOMTAwMDAwMDAxTzAwMDAwMDAwMU8wTzEwMDAwMDAwMU8wMDAwMDAwMDAwMU8wMDAwMU8wMDAwMDAxTzAwMDAxTzAwMDAwMDFPMDAwMDFPMDAxTzAwMU8wMDFPMU8wMDFPMDAxTzAwMU8wMDFPMDAxTzFPMDAxTzAwMU8wMDEwTjFPMTAwTzFPMTAwTzFPMTAwTzFPMTAwTzFPMTAwTzFPMTAwTzFPMTAwTzFPMU8xMDBPMU8xMDBPMU8xMDBPMU8xMDBPMU8xMDBPMU8xMDBPMU8xMDBPMU8xMDBPMU8xMDBPMTAwMDBPMTAwTzEwMU8wTzEwME8xMDAwME8xMDBPMk8wMDBPMTAwTzEwMDAwTzEwMU4xMDBPMTAwMDBPMTAwTzEwMU8wTzEwME8xMDBPMTAwMDBPMk8wTzEwMDAwMDAwME8xMDAwMU8wMDBPMTAwMDAwMDAwMDBPMk8wMDAwMU8wTzEwMDAxTzAwME8yTzAwMDAwMDFOMTAwMDFPMDAwMDBPMk8wMDAwMU8wTzEwMDAxTzFPME8yTzFPMDAxTzFOMTAxTzFPMDAxTjJPMDAxTzFPMDAxTjEwMU8wMDFPME8yTzAwMU8wMFZZbmsw'}, 'attribute_tokens': ['9f65c1eaa74e4d5db46e87a34811e994'], 'sample_data_token': '957f54a4368e48f5b1c95ca43f4ae0b5'}, {'token': '4d94b0addd84465a8067c07d8ad7e727', 'category_token': 'fd69059b62a3469fbaef25340c0eab7f', 'bbox': [1455, 451, 1592, 552], 'mask': {'size': [900, 1600], 'counts': 'ZGBtVzEzZjA1XWowTl1VTzxcajBEYlVPP11qMEFgVU9jMF9qMF5PXVVPZjBiajBaT1xVT2kwY2owV09aVU9tMGVqMDpPMU8xTjJNM00zTTNNM00zTTNNM00zTjJPMU4yTjNOMU4yTjNOMU4xTzJPME8yTjEwMU4xMDFPMDAxT08xTzFPMU4yTzFPMWBOWVdPQmhoMD5YV09BaWgwP1dXT19Pa2gwYDBWV09eT2xoMGIwVFdPXU9taDBjMFNXT1tPb2gwZTBRV09ZT1FpMGYwUFdPWU9RaTBnMFBXT1ZPUmkwajBuVk9UT1RpMGswbVZPVE9UaTBsMGxWT1JPVmkwbjBqVk9QT1hpMFAxaFZPbk5aaTBSMWZWT2xOXGkwVDFkVk9qTl5pMFYxYlZPaE5gaTBZMWUwMDAwMU8wMDAxTzAwMDAwMDFPTzFPMU8xTzFOMk8xTzFPMU8xTzFPMU8xTzFOMk8xTzFPMU8xTzFPMTAxTjFPMTAwTzFPMTAwTzFPMTAwTzFPMTAwTzFPMTAwTzFPMTAwTzFPMTAwTzFPMTAwTzFPMTAwT1pVaDA='}, 'attribute_tokens': ['9f65c1eaa74e4d5db46e87a34811e994'], 'sample_data_token': '957f54a4368e48f5b1c95ca43f4ae0b5'}, {'token': '6c484f2655914343adbaf6fd31735096', 'category_token': 'fd69059b62a3469fbaef25340c0eab7f', 'bbox': [1199, 442, 1483, 667], 'mask': {'size': [900, 1600], 'counts': 'amJsUDFhMF5rMGcwWU88b1ZPY05nZjBqMWVYT2VOVGcwZzFWWE9qTmVnMG4yTDJXT2pLYllPWTRbZjBrS2FZT1c0XWYwbEthWU9VNF5mMG5LXllPVTRhZjBtS1tZT1U0ZGYwbUtZWU9WNGZmMGxLVllPVjRpZjBjMDAxTjExME9PMTAwMDFPMDAwMDAwMDBOMk8wTzJPMU4yTzFOMk8xTjJPMU4yT04xTDVNMk4zTjExMDFOMk8xTjJOMk4yTjJOMk4yTjJPMU8xMDBPMU8xTzExTzAwMDAwMDAwMDAwMDAwMDAwMDAwMDAwMDAwMDAwMDAwMDAwMDAwMDAwMDAwMDAwMDAwMDAwMDAwMDAwMDAwMDAwMDAwMDAwMDAwMDAwMDAwMDAwMDAwMDAwMDAwMDAwMDAwMDAxTzAwMDAwMDAwMDAwMDAwMDAwMDAwMDAwMDAwMDAwMDAwMDAwMDAwMDAwMDAwMDAwMU8wMDAwMDAwMDAwMDAwMDAwMDAwMDAwMDAwMDAwMDAwMDAwMDAwMDAwMDAwMDAwMDAwMDAxTzAwMDAwMDAwMDAwMDAwMDAwMDAwMDAwMDAwMDAwMDAwMDAwMDAwMDAwMDAwMDAwMDAwMDAwMDAwMDAwMDAwMDAwMDAwMDAwMDAwMDAwMDAwMDAwMDAwMDAwMDAwMDAwMDAwMDAxTzAwMDAxTzAwMDAxTzAwMDAxTzAwMU8xTzAwMU8wMk8yTjFOM04xME4xTzJOMU8yTzFOMU8yTjFPMk8wTzJOMU8yTjFPMk4yTzBPMk4xTzJOMU8xTzEwME4zTTJtTVVZT2lObmYwUjFmWU9dTlxmMF0xUVpPWk5RZjBhMVRaT1xObmUwYTFWWk9dTmxlMGExVlpPXU5rZTBiMVdaT1tObGUwYzFYWk9YTmplMGcxW1pPVE5nZTBqMV5aT1BOZGUwbzFaMk4xTzJOMU40TTVKNks0SzZLNUpUX1wz'}, 'attribute_tokens': ['9f65c1eaa74e4d5db46e87a34811e994'], 'sample_data_token': '957f54a4368e48f5b1c95ca43f4ae0b5'}, {'token': '881ef4ea6df14623bd615c2245f1a859', 'category_token': 'fd69059b62a3469fbaef25340c0eab7f', 'bbox': [1126, 440, 1240, 542], 'mask': {'size': [900, 1600], 'counts': 'VldtbjAyUzIxaWcwM21XTzNTaDAwZ1ZPTzI3V2kwSmNWT1cxXWkwak5eVk9aMWJpMGdOW1ZPWzFlaTBlTllWT10xZ2kwZE5WVk9eMWppMD4wMU8wMDAwMDAwMDBPMU4yTjJOM01OM04xMk4yTjJOMk8xTjJOMk4yTjJPMTAwMDAwMDAwMDAwMDAwMDAwMDAwMDAwMDAwMDAwMDAwMDAwMDAxTzAwMDAwMDAxTzAwMDAwMDAwMDAwMDAwMDAwMDAwMDAwMDFPMDAwMDAwMDAwMDBlTlBXT0JQaTA+U1dPX09taDBgMFZXT15PamgwYjBXV09dT2loMGIwWVdPXU9naDBjMFlXT15PZmgwYTBcV09bT2hoMGQwWVdPVU9taDBqMFRXT1FPUWkwbzBvVk9uTlRpMFIxbFZPbU5VaTBTMWtWT2xOVmkwVDFrVk9qTlZpMFYxalZPaU5XaTBWMWpWT2lOV2kwVzFpVk9oTlhpMFgxaFZPZ05ZaTBZMWkwMDAxMDFOMk4yTjJOMk5OMk4yTTNOMk4yTTNOMk40TDRMNU0zTDNNNE00SzVLNUxbbms5'}, 'attribute_tokens': ['9f65c1eaa74e4d5db46e87a34811e994'], 'sample_data_token': '957f54a4368e48f5b1c95ca43f4ae0b5'}, {'token': 'a3f670c6f39a4a25bf4ca14bae3fcc06', 'category_token': 'fd69059b62a3469fbaef25340c0eab7f', 'bbox': [1500, 442, 1600, 590], 'mask': {'size': [900, 1600], 'counts': 'UmZQWTFhMGNrMDAwMDAwMDFvVE9AXGowYDBjVU9FWWowO2ZVT0pVajA3alVPTVNqMDRrVU9MVmowNGlVT01XajAzaFVPTlhqMDNmVU9NW2owM2RVT05cajAyY1VPT1xqMDJjVU9OXmowM2BVT05gajAyX1VPT2FqMDFeVU9PY2owMVxVTzBkajBoMDBPMTAwTzEwMDAwTzEwMDAxTjNOMU8yTTAxTzFPMDAxTzFOMGdVT25OY2kwUTFeVk9vTmJpMFAxX1ZPUU9faTBvMGJWT1JPXWkwbTBkVk9UT1tpMGowZ1ZPV09XaTBpMGpWT1dPVmkwaDBrVk9ZT1RpMGYwbVZPW09RaTBlMFBXT1xPb2gwYzBSV09eT21oMGMwUVdPQG1oMGEwUldPQG1oMGEwUldPQWxoMD9VV09CaWgwP1dXT0JnaDA/WVdPQmRoMD9dV09BYmgwYDBeV09BYGgwYDBgV09BXmgwYDBhV09BXmgwP2RXT0BbaDBhMGZXT15PWWgwYzBoV09cT1doMGUwaldPW09UaDBmMGxXT1pPVGgwZjBtV09ZT1JoMGgwb1dPV09QaDBrMG9XT1VPUGgwbDBQWE9UT29nMG0wUVhPVE9tZzBtMFNYT1NPbGcwUDFSWE9QT25nMFMxb1dPbU5QaDBWMW5XT2pOUWgwWjFsV09nTlJoMF0xaVdPZU5XaDBeMWRXT2ROW2gwXzFhV09jTl9oMGAxXFdPYk5jaDBgMjAwTzFPMTAxTjEwMU4xMDBPMk8wMDFPMDAwMDFPME8xMDAwMDAxTzAwMDAwTzEwMU8wMDAwMDAwMDFTQg=='}, 'attribute_tokens': ['9f65c1eaa74e4d5db46e87a34811e994'], 'sample_data_token': '957f54a4368e48f5b1c95ca43f4ae0b5'}, {'token': 'b470251b701140ea9c258544b0c9f786', 'category_token': 'fd69059b62a3469fbaef25340c0eab7f', 'bbox': [528, 424, 709, 507], 'mask': {'size': [900, 1600], 'counts': 'VWlsPjFTbDAwMDFPMDAxTzFOMTAxTzAwMU8wTzIwME8wMDFPMDAxTzAwMU8xTzAwMU8wMDFPMDAxTzFPMDAxTzAwMU8wMDFPMU8wMDFPMDAwMDAwMDAwMU8wMDAwMDAwMDAwMDAwMDAwMDAwMDAwMDAwMDAwMDAwTzEwME8xTzEwME8xMDBPMTAwTzFPMTAwTzEwMDAwMDAwMDAwTzEwMDAwMDAwMDAwTzEwMDAwMDAwMDAwTzEwMDAwMDAwMDAwTzEwMDAwMDAwMDAwTzEwMDAwMDAwMDAwTzEwMDAwMDAwMDAwMDAwMDAwMDAwMDAwMDAwMDAxTzAwMU8wMDFPMU8wMDFPMDAxTzAwWVpeaTA='}, 'attribute_tokens': ['9f65c1eaa74e4d5db46e87a34811e994'], 'sample_data_token': '957f54a4368e48f5b1c95ca43f4ae0b5'}, {'token': 'b87edffe7c7d40eeaa8f1198cb9145ca', 'category_token': 'fd69059b62a3469fbaef25340c0eab7f', 'bbox': [0, 421, 175, 599], 'mask': {'size': [900, 1600], 'counts': 'UD1sNFhnME8xTzFPMTAwTzFPMU8xTzEwME8wXU9kME4yTjJPMTAwMDAwMDAwTzEwTzE2SjAwMDAwMDAwMDAwMDAwMDAxTzAwMDAwMU8xTzFPMU8xT08xMDFOMU8xMDBPMTAwTzFPMTAwTzEwME8yTjEwME8xMDBPMTAwTzJPME8xMDBPMTAwTzEwMU4yTjJPMU4yTjJPMU4xMDBPMU8xMDFOMU8xMDBPMk4xMDBPMU8xMDFOMU8xMDBPMTAxTjEwMDAwTzEwMU4xMDBPMU8xMDBPMk8wTzFPMTAwTzJPMDAwTzEwMDAwTzEwME8xMDAwME8xMDAwME8xMDFPME8yTzBPMk8wMDFOMTAwTzJPMGNOYFVPVjFhajBnTmJVT1cxX2owZ05kVU9YMWVqME8xTzFPMU4xMDAwMDAxTzAwME8xMDAwOkYxTzBPMk8xTzAwMU8xTzFPME8yTzFPMDAxTzFPMU8wTzJPMU8wMDFPMU8xTjEwMU8xTzAwMU9ublNXMQ=='}, 'attribute_tokens': ['9f65c1eaa74e4d5db46e87a34811e994'], 'sample_data_token': '957f54a4368e48f5b1c95ca43f4ae0b5'}, {'token': 'c7b11e78b420473f84d85209a2fc1607', 'category_token': 'fd69059b62a3469fbaef25340c0eab7f', 'bbox': [81, 444, 980, 900], 'mask': {'size': [900, 1600], 'counts': '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'}, 'attribute_tokens': ['9f65c1eaa74e4d5db46e87a34811e994'], 'sample_data_token': '957f54a4368e48f5b1c95ca43f4ae0b5'}, {'token': 'd35ea0e977fe4464a2194c34f8e324bd', 'category_token': 'fd69059b62a3469fbaef25340c0eab7f', 'bbox': [109, 417, 401, 546], 'mask': {'size': [900, 1600], 'counts': 'amhaMzJuazA0TTRPMDAwMDFPME8yTzAwMWNUT0NRazA9bVRPRlFrMDttVE9HU2swOmpUT0lVazA3aVRPTFZrMGIwTzBPMk8xTzFPME8yTzFPMU8wMDFOMk8xTzFPMU4zTjFPMU8xTzJNMk8yTjFPMU8yTjFPMk4xTjAxMDAwMDAwMDAwMDAwME8wMTAwMDAwMDAwMDAwTzEwTzEwMDAwMDAwMDAwME8xME8xMDAwMDAwMDAwMDBNM0w0MU8wMDAwMU8wMDAwMU8wMDAwMDAwMDAwMDAwMDAwMDAwMDAwMDAwMDAwMDAwMDAwMDAwMDAwMDAwMDAwMDAwMDAwMDAwMDAwMDAwMDAwMDAwMDFPMDFPMDAwMDAwMDAwMDAwMDAwMDAwMDAwMDAwMDAwMDAwMDAwMDAwMDAxT08xTjJOMk8xTjJPMU8xTzFPMU8xTzFPMU8yTjFOMk8xTzFPMU8xTzFPMU8xTzFPMk4xTzFPMU8xTzFPMU8xTzFPMU4yTzJOMU8xTzFPMUZkVE9LXWswMmdUT0xaazAzaFRPS1lrMDVoVE9JWWswNzowMU8wMDAwMDAwTzEwMDAwTzEwMDAwTzJPMDAwTzEwMDAwTzEwMDAwMDAwMDBSWm9SMQ=='}, 'attribute_tokens': ['9f65c1eaa74e4d5db46e87a34811e994'], 'sample_data_token': '957f54a4368e48f5b1c95ca43f4ae0b5'}]\n"
     ]
    }
   ],
   "source": [
    "# %%\n",
    "carpath = \"nuimages/train/car.json\"\n",
    "humanpath = \"nuimages/train/human.json\"\n",
    "car_imgs = []\n",
    "car_imgs = dataset.load_image(carpath, 0)\n",
    "\n",
    "transform = transforms.Compose([\n",
    "    transforms.Resize(512),\n",
    "    transforms.ToTensor(),\n",
    "    transforms.Normalize(mean=[0.485, 0.456, 0.406], std=[0.229, 0.224, 0.225])\n",
    "])\n",
    "print(car_imgs[2]['annotations'])\n"
   ],
   "metadata": {
    "collapsed": false
   }
  },
  {
   "cell_type": "markdown",
   "source": [],
   "metadata": {
    "collapsed": false
   }
  },
  {
   "cell_type": "code",
   "execution_count": 3,
   "outputs": [],
   "source": [
    "car_train = dataset.Dataset(car_imgs, transform=transform, loader=dataset.Myloader)\n",
    "car_train.__getitem__(1)\n",
    "\n",
    "img = car_train.__getitem__(0).numpy()\n",
    "max_val = img.max()\n",
    "img = np.uint8(img*255/max_val)\n",
    "img = img.transpose(1,2,0)"
   ],
   "metadata": {
    "collapsed": false
   }
  },
  {
   "cell_type": "code",
   "execution_count": 14,
   "outputs": [
    {
     "name": "stderr",
     "output_type": "stream",
     "text": [
      "C:\\Users\\Jiarun\\AppData\\Local\\anaconda3\\envs\\ECE449project\\lib\\site-packages\\torchvision\\models\\_utils.py:208: UserWarning: The parameter 'pretrained' is deprecated since 0.13 and may be removed in the future, please use 'weights' instead.\n",
      "  warnings.warn(\n",
      "C:\\Users\\Jiarun\\AppData\\Local\\anaconda3\\envs\\ECE449project\\lib\\site-packages\\torchvision\\models\\_utils.py:223: UserWarning: Arguments other than a weight enum or `None` for 'weights' are deprecated since 0.13 and may be removed in the future. The current behavior is equivalent to passing `weights=VGG16_Weights.IMAGENET1K_V1`. You can also use `weights=VGG16_Weights.DEFAULT` to get the most up-to-date weights.\n",
      "  warnings.warn(msg)\n"
     ]
    }
   ],
   "source": [
    "batch_size = 2\n",
    "car_train_data =  DataLoader(dataset=car_train, batch_size=batch_size, shuffle=True, num_workers=0)\n",
    "Cuda = True\n",
    "device = torch.device(\"cuda:0\" if torch.cuda.is_available() else \"cpu\")\n",
    "#list(enumerate(car_train_data, 0))\n",
    "#\n",
    "#resnext_model = torch.hub.load('facebookresearch/WSL-Images', 'resnext101_32x8d_wsl').to(device)\n",
    "rpn_model = RegionProposalNetwork().cuda()\n",
    "\n",
    "model = models.vgg16(pretrained=True).cuda()\n",
    "return_layers = {'features':'Conv2d', 'classifier':'conv'}\n",
    "backbone = IntermediateLayerGetter(model, return_layers)\n",
    "ROI_head_model = VGG16RoIHead(n_class=3, roi_size=7,spatial_scale=1/16, classifier=backbone['classifier'][:-3]).cuda()"
   ],
   "metadata": {
    "collapsed": false
   }
  },
  {
   "cell_type": "code",
   "execution_count": 5,
   "outputs": [],
   "source": [
    "for i, image in enumerate(car_train_data, 0):\n",
    "    model.eval()\n",
    "    return_layers = {'features':'Conv2d', }\n",
    "    backbone = IntermediateLayerGetter(model, return_layers)\n",
    "    backbone.eval()\n",
    "    image = Variable(image.to(device))\n",
    "    with torch.no_grad():\n",
    "        for j in range(len(backbone['features'])):\n",
    "            if j==0:\n",
    "                x = backbone['features'][j](image)\n",
    "            else:\n",
    "                x = backbone['features'][j](x)\n",
    "            if j == 28:\n",
    "                conv5_3 = x\n",
    "\n",
    "\n",
    "    # print(conv5_3.size())"
   ],
   "metadata": {
    "collapsed": false
   }
  },
  {
   "cell_type": "code",
   "execution_count": 16,
   "outputs": [
    {
     "name": "stdout",
     "output_type": "stream",
     "text": [
      "tensor([[-0.1335, -0.1883,  0.8460],\n",
      "        [-0.3081,  0.0600,  0.8123],\n",
      "        [-0.3045, -0.2777,  0.4974],\n",
      "        [-0.4454,  0.0340,  0.2688],\n",
      "        [-0.3455, -0.2605,  0.7213],\n",
      "        [-0.5193, -0.0130,  0.8797],\n",
      "        [-0.6692, -0.0960,  0.7921],\n",
      "        [-0.2380, -0.1021,  0.6433],\n",
      "        [-0.3284, -0.1322,  0.6298],\n",
      "        [ 0.5677, -0.1135, -0.0235],\n",
      "        [ 0.4639,  0.1808,  0.0013],\n",
      "        [-0.0436, -0.1405, -0.1620],\n",
      "        [ 0.5413,  0.1262,  0.0652],\n",
      "        [ 0.2848,  0.1643, -0.3401],\n",
      "        [ 0.4117,  0.4020, -0.3943],\n",
      "        [ 0.5137,  0.4155,  0.1259],\n",
      "        [ 0.1120,  0.2362, -0.1431]], device='cuda:0',\n",
      "       grad_fn=<AddmmBackward0>)\n"
     ]
    }
   ],
   "source": [
    "rpn_locs, rpn_scores, rois, roi_indices, anchor = rpn_model(conv5_3, (32,56))\n",
    "# print(roi_indices)\n",
    "roi_cls_locs, roi_scores = ROI_head_model(conv5_3,rois,roi_indices)\n",
    "# print(roi_cls_locs)\n",
    "print(roi_scores)"
   ],
   "metadata": {
    "collapsed": false
   }
  },
  {
   "cell_type": "code",
   "execution_count": 13,
   "outputs": [
    {
     "data": {
      "text/plain": "Sequential(\n  (0): Linear(in_features=25088, out_features=4096, bias=True)\n  (1): ReLU(inplace=True)\n  (2): Dropout(p=0.5, inplace=False)\n  (3): Linear(in_features=4096, out_features=4096, bias=True)\n)"
     },
     "execution_count": 13,
     "metadata": {},
     "output_type": "execute_result"
    }
   ],
   "source": [
    "backbone['classifier'][:-3].eval()"
   ],
   "metadata": {
    "collapsed": false
   }
  }
 ],
 "metadata": {
  "kernelspec": {
   "display_name": "Python 3",
   "language": "python",
   "name": "python3"
  },
  "language_info": {
   "codemirror_mode": {
    "name": "ipython",
    "version": 2
   },
   "file_extension": ".py",
   "mimetype": "text/x-python",
   "name": "python",
   "nbconvert_exporter": "python",
   "pygments_lexer": "ipython2",
   "version": "2.7.6"
  }
 },
 "nbformat": 4,
 "nbformat_minor": 0
}
