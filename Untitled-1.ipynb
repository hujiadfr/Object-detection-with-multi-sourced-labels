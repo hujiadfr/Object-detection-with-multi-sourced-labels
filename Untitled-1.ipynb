{
 "cells": [
  {
   "cell_type": "code",
   "execution_count": 1,
   "metadata": {},
   "outputs": [],
   "source": [
    "from dataset.dataset import Dataset, inverse_normalize, load_valimage\n",
    "\n"
   ]
  },
  {
   "cell_type": "code",
   "execution_count": 2,
   "metadata": {},
   "outputs": [],
   "source": [
    "path = \"nuimages/val/human&car.json\"\n",
    "imgs = []\n",
    "imgs = load_valimage(path)\n",
    "test = Dataset(imgs)\n",
    "dataset = Dataset(test)"
   ]
  },
  {
   "cell_type": "code",
   "execution_count": 7,
   "metadata": {},
   "outputs": [
    {
     "name": "stdout",
     "output_type": "stream",
     "text": [
      "[[732 255 769 271]\n",
      " [375 263 488 320]\n",
      " [839 253 854 292]\n",
      " [648 252 672 266]\n",
      " [527 254 563 276]\n",
      " [414 260 563 358]\n",
      " [592 256 645 290]\n",
      " [786 226 837 393]] [0 0 1 0 0 0 0 1]\n"
     ]
    }
   ],
   "source": [
    "img, bbox, label, scale=dataset[0]\n",
    "print(bbox,label)"
   ]
  }
 ],
 "metadata": {
  "kernelspec": {
   "display_name": "Python 3",
   "language": "python",
   "name": "python3"
  },
  "language_info": {
   "codemirror_mode": {
    "name": "ipython",
    "version": 3
   },
   "file_extension": ".py",
   "mimetype": "text/x-python",
   "name": "python",
   "nbconvert_exporter": "python",
   "pygments_lexer": "ipython3",
   "version": "3.9.5"
  },
  "orig_nbformat": 4,
  "vscode": {
   "interpreter": {
    "hash": "865d8b2eb28e274047ba64063dfb6a2aabf0dfec4905d304d7a76618dae6fdd4"
   }
  }
 },
 "nbformat": 4,
 "nbformat_minor": 2
}
